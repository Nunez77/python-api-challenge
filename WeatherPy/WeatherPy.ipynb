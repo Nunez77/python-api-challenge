{
 "cells": [
  {
   "cell_type": "markdown",
   "metadata": {},
   "source": [
    "# WeatherPy"
   ]
  },
  {
   "cell_type": "code",
   "execution_count": 2,
   "metadata": {},
   "outputs": [],
   "source": [
    "# Dependencies, Libraries & more\n",
    "import pandas as pd\n",
    "import json\n",
    "import numpy as np\n",
    "import matplotlib.pyplot as plt\n",
    "from citipy import citipy # Why?\n",
    "\n"
   ]
  },
  {
   "cell_type": "code",
   "execution_count": 11,
   "metadata": {},
   "outputs": [
    {
     "ename": "TypeError",
     "evalue": "'type' object is not subscriptable",
     "output_type": "error",
     "traceback": [
      "\u001b[1;31m---------------------------------------------------------------------------\u001b[0m",
      "\u001b[1;31mTypeError\u001b[0m                                 Traceback (most recent call last)",
      "\u001b[1;32m<ipython-input-11-6ed14522aa95>\u001b[0m in \u001b[0;36m<module>\u001b[1;34m\u001b[0m\n\u001b[0;32m     16\u001b[0m         \u001b[0mcities\u001b[0m\u001b[1;33m.\u001b[0m\u001b[0mappend\u001b[0m\u001b[1;33m(\u001b[0m\u001b[0mcity\u001b[0m\u001b[1;33m)\u001b[0m\u001b[1;33m\u001b[0m\u001b[1;33m\u001b[0m\u001b[0m\n\u001b[0;32m     17\u001b[0m \u001b[1;33m\u001b[0m\u001b[0m\n\u001b[1;32m---> 18\u001b[1;33m \u001b[0mcoor_df\u001b[0m \u001b[1;33m=\u001b[0m \u001b[0mpd\u001b[0m\u001b[1;33m.\u001b[0m\u001b[0mDataFrame\u001b[0m\u001b[1;33m[\u001b[0m\u001b[0mcoordinates\u001b[0m\u001b[1;33m]\u001b[0m\u001b[1;33m\u001b[0m\u001b[1;33m\u001b[0m\u001b[0m\n\u001b[0m\u001b[0;32m     19\u001b[0m \u001b[0mcoor_df\u001b[0m\u001b[1;33m\u001b[0m\u001b[1;33m\u001b[0m\u001b[0m\n",
      "\u001b[1;31mTypeError\u001b[0m: 'type' object is not subscriptable"
     ]
    }
   ],
   "source": [
    "# Create city list\n",
    "cities = []\n",
    "# Create coordinates list\n",
    "coordinates = []\n",
    "# Generate 800 random latitudes and 800 random longitudes\n",
    "# Longitud +/- 180 from the Equator\n",
    "lon = np.random.uniform(low=-180.0000, high=180.0000, size=2000)\n",
    "# Latitud +/- 90 from Greenwich Meridian\n",
    "lat = np.random.uniform(low=-90.0000, high=90.0000, size=2000)\n",
    "# Join the two random lists\n",
    "coordinates = zip(lat, lon)\n",
    "# Find nearest city for longitude latitude combos and if it is first timer include in the list\n",
    "for coord in coordinates:\n",
    "    city = citipy.nearest_city(coord[0], coord[1]).city_name\n",
    "    if city not in cities:\n",
    "        cities.append(city)\n",
    "\n",
    "coor_df = pd.DataFrame([)coordinates]\n",
    "coor_df"
   ]
  },
  {
   "cell_type": "markdown",
   "metadata": {},
   "source": [
    "# What's the weather like as we approach the equator?"
   ]
  },
  {
   "cell_type": "code",
   "execution_count": null,
   "metadata": {},
   "outputs": [],
   "source": [
    "# In this example, you'll be creating a Python script to visualize the weather of 500+ cities \n",
    "# across the world of varying distance from the equator.\n",
    "\n",
    "\n",
    "# Create a series of scatter plots to showcase the following relationships:\n",
    "# Temperature (F) vs. Latitude\n",
    "\n",
    "\n",
    "# Humidity (%) vs. Latitude\n",
    "# Cloudiness (%) vs. Latitude\n",
    "# Wind Speed (mph) vs. Latitude"
   ]
  }
 ],
 "metadata": {
  "kernelspec": {
   "display_name": "Python [conda env:root] *",
   "language": "python",
   "name": "conda-root-py"
  }
 },
 "nbformat": 4,
 "nbformat_minor": 4
}
