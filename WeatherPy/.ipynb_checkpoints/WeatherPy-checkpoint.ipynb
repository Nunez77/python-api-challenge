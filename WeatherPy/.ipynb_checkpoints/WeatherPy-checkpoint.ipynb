{
 "cells": [
  {
   "cell_type": "markdown",
   "metadata": {},
   "source": [
    "# WeatherPy"
   ]
  },
  {
   "cell_type": "code",
   "execution_count": 2,
   "metadata": {},
   "outputs": [],
   "source": [
    "# Dependencies, Libraries & more\n",
    "import pandas as pd\n",
    "import json\n",
    "import numpy as np\n",
    "import matplotlib.pyplot as plt\n",
    "from citipy import citipy # Why?"
   ]
  },
  {
   "cell_type": "code",
   "execution_count": 13,
   "metadata": {},
   "outputs": [],
   "source": [
    "# Create city list\n",
    "cities = []\n",
    "# Create coordinates list\n",
    "coordinates = []\n",
    "# Generate 800 random latitudes and 800 random longitudes\n",
    "# Longitud +/- 180 from the Equator\n",
    "lon = np.random.uniform(low=-180.0000, high=180.0000, size=2000)\n",
    "# Latitud +/- 90 from Greenwich Meridian\n",
    "lat = np.random.uniform(low=-90.0000, high=90.0000, size=2000)\n",
    "# Join the two random lists\n",
    "coordinates = zip(lat, lon)\n",
    "# Find nearest city for longitude latitude combos and if it is first timer include in the list\n",
    "for coord in coordinates:\n",
    "    city = citipy.nearest_city(coord[0], coord[1]).city_name\n",
    "    if city not in cities:\n",
    "        cities.append(city)"
   ]
  },
  {
   "cell_type": "markdown",
   "metadata": {},
   "source": [
    "# API Calls for Temperature, Humidity, Cloudiness & Windspeed"
   ]
  },
  {
   "cell_type": "code",
   "execution_count": null,
   "metadata": {},
   "outputs": [],
   "source": [
    "# Import API key\n",
    "from llaves import api_key\n",
    "\n",
    "# Output File (CSV)\n",
    "output_data = \"weather_df.csv\"\n",
    "\n",
    "# Weather config\n",
    "weathurl = \"http://api.openweathermap.org/data/2.5/weather?\"\n",
    "units = \"metric\"\n",
    "\n",
    "# Build partial query URL\n",
    "q_url_1 = f\"{weathurl}appid={api_key}&units={units}&q=\"\n",
    "\n",
    "# Lists\n",
    "hi_temp = []\n",
    "humidity = []\n",
    "cloudinesses = []\n",
    "wind_sp = []\n",
    "lats = []\n",
    "lons = []\n",
    "\n",
    "# Create a loop to feed the city list\n",
    "for city in cities:\n",
    "    q_url_2 = q_url_1 + \"&q=\" + city\n",
    "    try:\n",
    "        reponse = requests.get(query_url_2).json()\n",
    "        countries.append(response['sys']['country'])\n",
    "        hi_temp.append(response['main']['temp_max'])\n",
    "        humidity.append(response['main']['humidity'])\n",
    "        cloudinesses.append(response['clouds']['all'])\n",
    "        wind_sp.append(response['wind']['speed'])\n",
    "        dates.append(response['dt'])\n",
    "        lats.append(response['coord']['lat'])\n",
    "        lngs.append(response['coord']['lon'])\n",
    "        wind_speeds.append(response['wind']['speed'])\n",
    "        "
   ]
  },
  {
   "cell_type": "markdown",
   "metadata": {},
   "source": [
    "# What's the weather like as we approach the equator?"
   ]
  },
  {
   "cell_type": "code",
   "execution_count": null,
   "metadata": {},
   "outputs": [],
   "source": [
    "# In this example, you'll be creating a Python script to visualize the weather of 500+ cities \n",
    "# across the world of varying distance from the equator.\n",
    "\n",
    "\n",
    "# Create a series of scatter plots to showcase the following relationships:\n",
    "# Temperature (F) vs. Latitude\n",
    "\n",
    "\n",
    "# Humidity (%) vs. Latitude\n",
    "# Cloudiness (%) vs. Latitude\n",
    "# Wind Speed (mph) vs. Latitude"
   ]
  }
 ],
 "metadata": {
  "kernelspec": {
   "display_name": "Python [conda env:root] *",
   "language": "python",
   "name": "conda-root-py"
  },
  "language_info": {
   "codemirror_mode": {
    "name": "ipython",
    "version": 3
   },
   "file_extension": ".py",
   "mimetype": "text/x-python",
   "name": "python",
   "nbconvert_exporter": "python",
   "pygments_lexer": "ipython3",
   "version": "3.8.5"
  }
 },
 "nbformat": 4,
 "nbformat_minor": 4
}
